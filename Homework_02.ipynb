{
 "cells": [
  {
   "cell_type": "code",
   "execution_count": 37,
   "metadata": {},
   "outputs": [
    {
     "name": "stdout",
     "output_type": "stream",
     "text": [
      "Список 1 :\n",
      " [-26, -89, 21, 75, 67, -63, -9, 94, -8, -18, 53, 43, -8, -87, -80, 72, -22, -83, 9, -86, -84, 65, 89, -10, 98, -38, 44, 53, -80, -5, 88, 32, 61, 11, -38, 24, 92, 60, 1, 26, -84, 19, -62, 29, 9, -21, -57, -16, 77, 41]\n",
      "Список 2 :\n",
      " [15, -21, 49, 28, 17, -76, 68, -37, 60, 13, 84, -84, 77, 83, -79, -95, 29, 67, -49, -30, -10, -62, -63, 41, -34, 14, -81, 51, -96, 100, 12, -95, 5, 27, 81, -32, 33, 53, 38, -66, -68, 66, 74, -98, 49, -71, -6, 65, 18, -38, -35, -92, 74, -37, -48, -84, -34, -66, 70, 78, 15, 60, -7, -89]\n",
      "do not remove\n"
     ]
    }
   ],
   "source": [
    "# Задача 1\n",
    "s='1.{0} \\n 2.{1} \\n 3.{2} \\n 4.{3} \\n'\n",
    "lst=['яблоко','банан','киви','арбуз']\n",
    "print ('Вывод:\\n', s.format(*lst))\n",
    "\n",
    "\n"
   ]
  },
  {
   "cell_type": "code",
   "execution_count": 55,
   "metadata": {},
   "outputs": [
    {
     "name": "stdout",
     "output_type": "stream",
     "text": [
      "Изначальный список :\n",
      " [-52, 5, 89, -17, -1, -35, 10, 57, -13, 39, 72, -71, 30, 38, 0, -42, -22, 12, -23, -37, 7, -6, -51]\n",
      "Новый список \n",
      ": [-13.0, 10.0, 178.0, -34.0, -2.0, -70.0, 2.5, 114.0, -26.0, 78.0, 18.0, -142.0, 7.5, 9.5, 0.0, -10.5, -5.5, 3.0, -46.0, -74.0, 14.0, -1.5, -102.0]\n"
     ]
    }
   ],
   "source": [
    "# Задача 3\n",
    "\n",
    "import random\n",
    "k=random.randint(1,100)\n",
    "i=0\n",
    "lst=[]\n",
    "new_lst=[]\n",
    "\n",
    "while i<k:\n",
    "    lst.append(random.randint(-100,100))\n",
    "    i+=1\n",
    "print('Изначальный список :\\n', lst)\n",
    "\n",
    "i=0\n",
    "while i<k:\n",
    "    if (float(lst[i]))%2==0:\n",
    "        new_lst.append(float(lst[i])/4)\n",
    "        i+=1\n",
    "    else:\n",
    "        new_lst.append(float(lst[i])*2)\n",
    "        i+=1\n",
    "        \n",
    "print('Новый список \\n:', new_lst)\n",
    "            "
   ]
  },
  {
   "cell_type": "code",
   "execution_count": 11,
   "metadata": {},
   "outputs": [
    {
     "name": "stdout",
     "output_type": "stream",
     "text": [
      "Список 1 :\n",
      " [1, 2, 5, 4, -3, -4, 1, -2]\n",
      "Список 2 :\n",
      " [3, 0, 0, -2, 0, -4, 1]\n",
      "Список после удаления: [2, 5, 4, -3, 1]\n"
     ]
    }
   ],
   "source": [
    "#Задача 2\n",
    "import random\n",
    "k=random.randint(1,10)\n",
    "i=0\n",
    "lst_01=[]\n",
    "lst_02=[]\n",
    "\n",
    "while i<k:\n",
    "    lst_01.append(random.randint(-5,5))\n",
    "    i+=1\n",
    "print('Список 1 :\\n', lst_01)\n",
    "\n",
    "k=random.randint(1,10)\n",
    "i=0\n",
    "while i<k:\n",
    "    lst_02.append(random.randint(-5,5))\n",
    "    i+=1\n",
    "print('Список 2 :\\n', lst_02)\n",
    "\n",
    "m=0\n",
    "i=0\n",
    "while i<int(len(lst_02)):\n",
    "    if lst_02[i] in lst_01:\n",
    "        lst_01.remove(lst_02[i])\n",
    "        i+=1\n",
    "    else:\n",
    "        i+=1\n",
    "    \n",
    "\n",
    "print('Список после удаления:', lst_01)\n",
    "\n"
   ]
  },
  {
   "cell_type": "code",
   "execution_count": null,
   "metadata": {},
   "outputs": [],
   "source": []
  },
  {
   "cell_type": "code",
   "execution_count": null,
   "metadata": {},
   "outputs": [],
   "source": []
  }
 ],
 "metadata": {
  "kernelspec": {
   "display_name": "Python 3",
   "language": "python",
   "name": "python3"
  },
  "language_info": {
   "codemirror_mode": {
    "name": "ipython",
    "version": 3
   },
   "file_extension": ".py",
   "mimetype": "text/x-python",
   "name": "python",
   "nbconvert_exporter": "python",
   "pygments_lexer": "ipython3",
   "version": "3.7.0"
  }
 },
 "nbformat": 4,
 "nbformat_minor": 2
}
