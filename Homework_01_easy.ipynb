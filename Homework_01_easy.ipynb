{
 "cells": [
  {
   "cell_type": "code",
   "execution_count": 55,
   "metadata": {},
   "outputs": [
    {
     "name": "stdout",
     "output_type": "stream",
     "text": [
      "83993\n",
      "3\n",
      "9\n",
      "9\n",
      "3\n",
      "8\n"
     ]
    }
   ],
   "source": [
    "__author__ = 'Elena Borodina'\n",
    "\n",
    "# Задача-1: Дано произвольное целое число (число заранее неизвестно).\n",
    "# Вывести поочередно цифры исходного числа (порядок вывода цифр неважен).\n",
    "# Подсказки:\n",
    "# * постарайтесь решить задачу с применением арифметики и цикла while;\n",
    "# * при желании решите задачу с применением цикла for.\n",
    "\n",
    "a=int(input())\n",
    "n=10\n",
    "\n",
    "while int(a/n):    \n",
    "    print(a%n,sep='\\n')\n",
    "    a=int(a/n)\n",
    "    \n",
    "print (a)\n",
    "\n",
    "\n",
    "\n",
    "\n",
    "\n",
    "\n",
    "# Задача-2: Исходные значения двух переменных запросить у пользователя.\n",
    "# Поменять значения переменных местами. Вывести новые значения на экран.\n",
    "# Подсказка:\n",
    "# * постарайтесь сделать решение через дополнительную переменную \n",
    "#   или через арифметические действия\n",
    "# Не нужно решать задачу так:\n",
    "# print(\"a = \", b, \"b = \", a) - это неправильное решение!\n",
    "\n",
    "\n",
    "a= input('input a:')\n",
    "b= input('input b:')\n",
    "c=b\n",
    "b=a\n",
    "a=c\n",
    "\n",
    "print(b,a, sep='\\n')\n",
    "\n",
    "\n",
    "\n",
    "\n",
    "# Задача-3: Запросите у пользователя его возраст.\n",
    "# Если ему есть 18 лет, выведите: \"Доступ разрешен\",\n",
    "# иначе \"Извините, пользование данным ресурсом только с 18 лет\"\n",
    "\n",
    "a=input(\"Ваш возраст:\")\n",
    "if int(a)>=18:\n",
    "    print('Доступ разрешен')\n",
    "else:\n",
    "    print ('Извините, пользование данным ресурсом только с 18 лет')"
   ]
  },
  {
   "cell_type": "code",
   "execution_count": null,
   "metadata": {},
   "outputs": [],
   "source": []
  },
  {
   "cell_type": "code",
   "execution_count": null,
   "metadata": {},
   "outputs": [],
   "source": []
  },
  {
   "cell_type": "code",
   "execution_count": null,
   "metadata": {},
   "outputs": [],
   "source": []
  }
 ],
 "metadata": {
  "kernelspec": {
   "display_name": "Python 3",
   "language": "python",
   "name": "python3"
  },
  "language_info": {
   "codemirror_mode": {
    "name": "ipython",
    "version": 3
   },
   "file_extension": ".py",
   "mimetype": "text/x-python",
   "name": "python",
   "nbconvert_exporter": "python",
   "pygments_lexer": "ipython3",
   "version": "3.7.0"
  }
 },
 "nbformat": 4,
 "nbformat_minor": 2
}
